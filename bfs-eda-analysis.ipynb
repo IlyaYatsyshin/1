{
 "cells": [
  {
   "cell_type": "code",
   "execution_count": 1,
   "id": "7d4e9f3d",
   "metadata": {
    "_cell_guid": "b1076dfc-b9ad-4769-8c92-a6c4dae69d19",
    "_uuid": "8f2839f25d086af736a60e9eeb907d3b93b6e0e5",
    "execution": {
     "iopub.execute_input": "2022-12-28T19:09:53.094409Z",
     "iopub.status.busy": "2022-12-28T19:09:53.093877Z",
     "iopub.status.idle": "2022-12-28T19:09:53.112304Z",
     "shell.execute_reply": "2022-12-28T19:09:53.110746Z"
    },
    "papermill": {
     "duration": 0.031826,
     "end_time": "2022-12-28T19:09:53.114754",
     "exception": false,
     "start_time": "2022-12-28T19:09:53.082928",
     "status": "completed"
    },
    "tags": []
   },
   "outputs": [
    {
     "name": "stdout",
     "output_type": "stream",
     "text": [
      "/kaggle/input/black-friday-sale/train.csv\n"
     ]
    }
   ],
   "source": [
    "# This Python 3 environment comes with many helpful analytics libraries installed\n",
    "# It is defined by the kaggle/python Docker image: https://github.com/kaggle/docker-python\n",
    "# For example, here's several helpful packages to load\n",
    "\n",
    "import numpy as np # linear algebra\n",
    "import pandas as pd # data processing, CSV file I/O (e.g. pd.read_csv)\n",
    "\n",
    "# Input data files are available in the read-only \"../input/\" directory\n",
    "# For example, running this (by clicking run or pressing Shift+Enter) will list all files under the input directory\n",
    "\n",
    "import os\n",
    "for dirname, _, filenames in os.walk('/kaggle/input'):\n",
    "    for filename in filenames:\n",
    "        print(os.path.join(dirname, filename))\n",
    "\n",
    "# You can write up to 20GB to the current directory (/kaggle/working/) that gets preserved as output when you create a version using \"Save & Run All\" \n",
    "# You can also write temporary files to /kaggle/temp/, but they won't be saved outside of the current session"
   ]
  },
  {
   "cell_type": "code",
   "execution_count": 2,
   "id": "a8227bd9",
   "metadata": {
    "execution": {
     "iopub.execute_input": "2022-12-28T19:09:53.134488Z",
     "iopub.status.busy": "2022-12-28T19:09:53.134136Z",
     "iopub.status.idle": "2022-12-28T19:09:54.362708Z",
     "shell.execute_reply": "2022-12-28T19:09:54.361616Z"
    },
    "papermill": {
     "duration": 1.241373,
     "end_time": "2022-12-28T19:09:54.365103",
     "exception": false,
     "start_time": "2022-12-28T19:09:53.123730",
     "status": "completed"
    },
    "tags": []
   },
   "outputs": [],
   "source": [
    "import seaborn as sns\n",
    "import matplotlib.pyplot as plt\n",
    "import phik \n",
    "from phik.report import plot_correlation_matrix\n",
    "from phik import report"
   ]
  },
  {
   "cell_type": "code",
   "execution_count": 3,
   "id": "81aa0446",
   "metadata": {
    "execution": {
     "iopub.execute_input": "2022-12-28T19:09:54.383528Z",
     "iopub.status.busy": "2022-12-28T19:09:54.383156Z",
     "iopub.status.idle": "2022-12-28T19:09:55.109463Z",
     "shell.execute_reply": "2022-12-28T19:09:55.107964Z"
    },
    "papermill": {
     "duration": 0.73823,
     "end_time": "2022-12-28T19:09:55.111895",
     "exception": false,
     "start_time": "2022-12-28T19:09:54.373665",
     "status": "completed"
    },
    "tags": []
   },
   "outputs": [],
   "source": [
    "df=pd.read_csv('/kaggle/input/black-friday-sale/train.csv')"
   ]
  },
  {
   "cell_type": "code",
   "execution_count": 4,
   "id": "2ca6c91c",
   "metadata": {
    "execution": {
     "iopub.execute_input": "2022-12-28T19:09:55.132083Z",
     "iopub.status.busy": "2022-12-28T19:09:55.131147Z",
     "iopub.status.idle": "2022-12-28T19:09:55.163885Z",
     "shell.execute_reply": "2022-12-28T19:09:55.162607Z"
    },
    "papermill": {
     "duration": 0.044703,
     "end_time": "2022-12-28T19:09:55.166322",
     "exception": false,
     "start_time": "2022-12-28T19:09:55.121619",
     "status": "completed"
    },
    "tags": []
   },
   "outputs": [
    {
     "data": {
      "text/html": [
       "<div>\n",
       "<style scoped>\n",
       "    .dataframe tbody tr th:only-of-type {\n",
       "        vertical-align: middle;\n",
       "    }\n",
       "\n",
       "    .dataframe tbody tr th {\n",
       "        vertical-align: top;\n",
       "    }\n",
       "\n",
       "    .dataframe thead th {\n",
       "        text-align: right;\n",
       "    }\n",
       "</style>\n",
       "<table border=\"1\" class=\"dataframe\">\n",
       "  <thead>\n",
       "    <tr style=\"text-align: right;\">\n",
       "      <th></th>\n",
       "      <th>User_ID</th>\n",
       "      <th>Product_ID</th>\n",
       "      <th>Gender</th>\n",
       "      <th>Age</th>\n",
       "      <th>Occupation</th>\n",
       "      <th>City_Category</th>\n",
       "      <th>Stay_In_Current_City_Years</th>\n",
       "      <th>Marital_Status</th>\n",
       "      <th>Product_Category_1</th>\n",
       "      <th>Product_Category_2</th>\n",
       "      <th>Product_Category_3</th>\n",
       "      <th>Purchase</th>\n",
       "    </tr>\n",
       "  </thead>\n",
       "  <tbody>\n",
       "    <tr>\n",
       "      <th>0</th>\n",
       "      <td>1000001</td>\n",
       "      <td>P00069042</td>\n",
       "      <td>F</td>\n",
       "      <td>0-17</td>\n",
       "      <td>10</td>\n",
       "      <td>A</td>\n",
       "      <td>2</td>\n",
       "      <td>0</td>\n",
       "      <td>3</td>\n",
       "      <td>NaN</td>\n",
       "      <td>NaN</td>\n",
       "      <td>8370</td>\n",
       "    </tr>\n",
       "    <tr>\n",
       "      <th>1</th>\n",
       "      <td>1000001</td>\n",
       "      <td>P00248942</td>\n",
       "      <td>F</td>\n",
       "      <td>0-17</td>\n",
       "      <td>10</td>\n",
       "      <td>A</td>\n",
       "      <td>2</td>\n",
       "      <td>0</td>\n",
       "      <td>1</td>\n",
       "      <td>6.0</td>\n",
       "      <td>14.0</td>\n",
       "      <td>15200</td>\n",
       "    </tr>\n",
       "    <tr>\n",
       "      <th>2</th>\n",
       "      <td>1000001</td>\n",
       "      <td>P00087842</td>\n",
       "      <td>F</td>\n",
       "      <td>0-17</td>\n",
       "      <td>10</td>\n",
       "      <td>A</td>\n",
       "      <td>2</td>\n",
       "      <td>0</td>\n",
       "      <td>12</td>\n",
       "      <td>NaN</td>\n",
       "      <td>NaN</td>\n",
       "      <td>1422</td>\n",
       "    </tr>\n",
       "    <tr>\n",
       "      <th>3</th>\n",
       "      <td>1000001</td>\n",
       "      <td>P00085442</td>\n",
       "      <td>F</td>\n",
       "      <td>0-17</td>\n",
       "      <td>10</td>\n",
       "      <td>A</td>\n",
       "      <td>2</td>\n",
       "      <td>0</td>\n",
       "      <td>12</td>\n",
       "      <td>14.0</td>\n",
       "      <td>NaN</td>\n",
       "      <td>1057</td>\n",
       "    </tr>\n",
       "    <tr>\n",
       "      <th>4</th>\n",
       "      <td>1000002</td>\n",
       "      <td>P00285442</td>\n",
       "      <td>M</td>\n",
       "      <td>55+</td>\n",
       "      <td>16</td>\n",
       "      <td>C</td>\n",
       "      <td>4+</td>\n",
       "      <td>0</td>\n",
       "      <td>8</td>\n",
       "      <td>NaN</td>\n",
       "      <td>NaN</td>\n",
       "      <td>7969</td>\n",
       "    </tr>\n",
       "    <tr>\n",
       "      <th>...</th>\n",
       "      <td>...</td>\n",
       "      <td>...</td>\n",
       "      <td>...</td>\n",
       "      <td>...</td>\n",
       "      <td>...</td>\n",
       "      <td>...</td>\n",
       "      <td>...</td>\n",
       "      <td>...</td>\n",
       "      <td>...</td>\n",
       "      <td>...</td>\n",
       "      <td>...</td>\n",
       "      <td>...</td>\n",
       "    </tr>\n",
       "    <tr>\n",
       "      <th>550063</th>\n",
       "      <td>1006033</td>\n",
       "      <td>P00372445</td>\n",
       "      <td>M</td>\n",
       "      <td>51-55</td>\n",
       "      <td>13</td>\n",
       "      <td>B</td>\n",
       "      <td>1</td>\n",
       "      <td>1</td>\n",
       "      <td>20</td>\n",
       "      <td>NaN</td>\n",
       "      <td>NaN</td>\n",
       "      <td>368</td>\n",
       "    </tr>\n",
       "    <tr>\n",
       "      <th>550064</th>\n",
       "      <td>1006035</td>\n",
       "      <td>P00375436</td>\n",
       "      <td>F</td>\n",
       "      <td>26-35</td>\n",
       "      <td>1</td>\n",
       "      <td>C</td>\n",
       "      <td>3</td>\n",
       "      <td>0</td>\n",
       "      <td>20</td>\n",
       "      <td>NaN</td>\n",
       "      <td>NaN</td>\n",
       "      <td>371</td>\n",
       "    </tr>\n",
       "    <tr>\n",
       "      <th>550065</th>\n",
       "      <td>1006036</td>\n",
       "      <td>P00375436</td>\n",
       "      <td>F</td>\n",
       "      <td>26-35</td>\n",
       "      <td>15</td>\n",
       "      <td>B</td>\n",
       "      <td>4+</td>\n",
       "      <td>1</td>\n",
       "      <td>20</td>\n",
       "      <td>NaN</td>\n",
       "      <td>NaN</td>\n",
       "      <td>137</td>\n",
       "    </tr>\n",
       "    <tr>\n",
       "      <th>550066</th>\n",
       "      <td>1006038</td>\n",
       "      <td>P00375436</td>\n",
       "      <td>F</td>\n",
       "      <td>55+</td>\n",
       "      <td>1</td>\n",
       "      <td>C</td>\n",
       "      <td>2</td>\n",
       "      <td>0</td>\n",
       "      <td>20</td>\n",
       "      <td>NaN</td>\n",
       "      <td>NaN</td>\n",
       "      <td>365</td>\n",
       "    </tr>\n",
       "    <tr>\n",
       "      <th>550067</th>\n",
       "      <td>1006039</td>\n",
       "      <td>P00371644</td>\n",
       "      <td>F</td>\n",
       "      <td>46-50</td>\n",
       "      <td>0</td>\n",
       "      <td>B</td>\n",
       "      <td>4+</td>\n",
       "      <td>1</td>\n",
       "      <td>20</td>\n",
       "      <td>NaN</td>\n",
       "      <td>NaN</td>\n",
       "      <td>490</td>\n",
       "    </tr>\n",
       "  </tbody>\n",
       "</table>\n",
       "<p>550068 rows × 12 columns</p>\n",
       "</div>"
      ],
      "text/plain": [
       "        User_ID Product_ID Gender    Age  Occupation City_Category  \\\n",
       "0       1000001  P00069042      F   0-17          10             A   \n",
       "1       1000001  P00248942      F   0-17          10             A   \n",
       "2       1000001  P00087842      F   0-17          10             A   \n",
       "3       1000001  P00085442      F   0-17          10             A   \n",
       "4       1000002  P00285442      M    55+          16             C   \n",
       "...         ...        ...    ...    ...         ...           ...   \n",
       "550063  1006033  P00372445      M  51-55          13             B   \n",
       "550064  1006035  P00375436      F  26-35           1             C   \n",
       "550065  1006036  P00375436      F  26-35          15             B   \n",
       "550066  1006038  P00375436      F    55+           1             C   \n",
       "550067  1006039  P00371644      F  46-50           0             B   \n",
       "\n",
       "       Stay_In_Current_City_Years  Marital_Status  Product_Category_1  \\\n",
       "0                               2               0                   3   \n",
       "1                               2               0                   1   \n",
       "2                               2               0                  12   \n",
       "3                               2               0                  12   \n",
       "4                              4+               0                   8   \n",
       "...                           ...             ...                 ...   \n",
       "550063                          1               1                  20   \n",
       "550064                          3               0                  20   \n",
       "550065                         4+               1                  20   \n",
       "550066                          2               0                  20   \n",
       "550067                         4+               1                  20   \n",
       "\n",
       "        Product_Category_2  Product_Category_3  Purchase  \n",
       "0                      NaN                 NaN      8370  \n",
       "1                      6.0                14.0     15200  \n",
       "2                      NaN                 NaN      1422  \n",
       "3                     14.0                 NaN      1057  \n",
       "4                      NaN                 NaN      7969  \n",
       "...                    ...                 ...       ...  \n",
       "550063                 NaN                 NaN       368  \n",
       "550064                 NaN                 NaN       371  \n",
       "550065                 NaN                 NaN       137  \n",
       "550066                 NaN                 NaN       365  \n",
       "550067                 NaN                 NaN       490  \n",
       "\n",
       "[550068 rows x 12 columns]"
      ]
     },
     "execution_count": 4,
     "metadata": {},
     "output_type": "execute_result"
    }
   ],
   "source": [
    "df"
   ]
  },
  {
   "cell_type": "code",
   "execution_count": 5,
   "id": "618e7158",
   "metadata": {
    "execution": {
     "iopub.execute_input": "2022-12-28T19:09:55.185685Z",
     "iopub.status.busy": "2022-12-28T19:09:55.185308Z",
     "iopub.status.idle": "2022-12-28T19:09:55.304451Z",
     "shell.execute_reply": "2022-12-28T19:09:55.303474Z"
    },
    "papermill": {
     "duration": 0.132326,
     "end_time": "2022-12-28T19:09:55.307559",
     "exception": false,
     "start_time": "2022-12-28T19:09:55.175233",
     "status": "completed"
    },
    "tags": []
   },
   "outputs": [
    {
     "name": "stdout",
     "output_type": "stream",
     "text": [
      "<class 'pandas.core.frame.DataFrame'>\n",
      "RangeIndex: 550068 entries, 0 to 550067\n",
      "Data columns (total 12 columns):\n",
      " #   Column                      Non-Null Count   Dtype  \n",
      "---  ------                      --------------   -----  \n",
      " 0   User_ID                     550068 non-null  int64  \n",
      " 1   Product_ID                  550068 non-null  object \n",
      " 2   Gender                      550068 non-null  object \n",
      " 3   Age                         550068 non-null  object \n",
      " 4   Occupation                  550068 non-null  int64  \n",
      " 5   City_Category               550068 non-null  object \n",
      " 6   Stay_In_Current_City_Years  550068 non-null  object \n",
      " 7   Marital_Status              550068 non-null  int64  \n",
      " 8   Product_Category_1          550068 non-null  int64  \n",
      " 9   Product_Category_2          376430 non-null  float64\n",
      " 10  Product_Category_3          166821 non-null  float64\n",
      " 11  Purchase                    550068 non-null  int64  \n",
      "dtypes: float64(2), int64(5), object(5)\n",
      "memory usage: 50.4+ MB\n"
     ]
    }
   ],
   "source": [
    "df.info()"
   ]
  },
  {
   "cell_type": "code",
   "execution_count": 6,
   "id": "f5f2453c",
   "metadata": {
    "execution": {
     "iopub.execute_input": "2022-12-28T19:09:55.328256Z",
     "iopub.status.busy": "2022-12-28T19:09:55.327374Z",
     "iopub.status.idle": "2022-12-28T19:09:55.337820Z",
     "shell.execute_reply": "2022-12-28T19:09:55.336109Z"
    },
    "papermill": {
     "duration": 0.023147,
     "end_time": "2022-12-28T19:09:55.340312",
     "exception": false,
     "start_time": "2022-12-28T19:09:55.317165",
     "status": "completed"
    },
    "tags": []
   },
   "outputs": [
    {
     "data": {
      "text/plain": [
       "User_ID                         int64\n",
       "Product_ID                     object\n",
       "Gender                         object\n",
       "Age                            object\n",
       "Occupation                      int64\n",
       "City_Category                  object\n",
       "Stay_In_Current_City_Years     object\n",
       "Marital_Status                  int64\n",
       "Product_Category_1              int64\n",
       "Product_Category_2            float64\n",
       "Product_Category_3            float64\n",
       "Purchase                        int64\n",
       "dtype: object"
      ]
     },
     "execution_count": 6,
     "metadata": {},
     "output_type": "execute_result"
    }
   ],
   "source": [
    "df.dtypes"
   ]
  },
  {
   "cell_type": "code",
   "execution_count": 7,
   "id": "905fe6d6",
   "metadata": {
    "execution": {
     "iopub.execute_input": "2022-12-28T19:09:55.359757Z",
     "iopub.status.busy": "2022-12-28T19:09:55.359352Z",
     "iopub.status.idle": "2022-12-28T19:09:55.650635Z",
     "shell.execute_reply": "2022-12-28T19:09:55.649756Z"
    },
    "papermill": {
     "duration": 0.303642,
     "end_time": "2022-12-28T19:09:55.653008",
     "exception": false,
     "start_time": "2022-12-28T19:09:55.349366",
     "status": "completed"
    },
    "tags": []
   },
   "outputs": [
    {
     "data": {
      "text/plain": [
       "0"
      ]
     },
     "execution_count": 7,
     "metadata": {},
     "output_type": "execute_result"
    }
   ],
   "source": [
    "df.duplicated().sum()"
   ]
  },
  {
   "cell_type": "code",
   "execution_count": 8,
   "id": "905c53f1",
   "metadata": {
    "execution": {
     "iopub.execute_input": "2022-12-28T19:09:55.672388Z",
     "iopub.status.busy": "2022-12-28T19:09:55.671989Z",
     "iopub.status.idle": "2022-12-28T19:09:55.776200Z",
     "shell.execute_reply": "2022-12-28T19:09:55.774943Z"
    },
    "papermill": {
     "duration": 0.117118,
     "end_time": "2022-12-28T19:09:55.779024",
     "exception": false,
     "start_time": "2022-12-28T19:09:55.661906",
     "status": "completed"
    },
    "tags": []
   },
   "outputs": [
    {
     "data": {
      "text/plain": [
       "Product_Category_3            383247\n",
       "Product_Category_2            173638\n",
       "User_ID                            0\n",
       "Product_ID                         0\n",
       "Gender                             0\n",
       "Age                                0\n",
       "Occupation                         0\n",
       "City_Category                      0\n",
       "Stay_In_Current_City_Years         0\n",
       "Marital_Status                     0\n",
       "Product_Category_1                 0\n",
       "Purchase                           0\n",
       "dtype: int64"
      ]
     },
     "execution_count": 8,
     "metadata": {},
     "output_type": "execute_result"
    }
   ],
   "source": [
    "df.isna().sum().sort_values(ascending=False)"
   ]
  },
  {
   "cell_type": "code",
   "execution_count": 9,
   "id": "ca0a7a5a",
   "metadata": {
    "execution": {
     "iopub.execute_input": "2022-12-28T19:09:55.799656Z",
     "iopub.status.busy": "2022-12-28T19:09:55.799290Z",
     "iopub.status.idle": "2022-12-28T19:09:55.927259Z",
     "shell.execute_reply": "2022-12-28T19:09:55.926218Z"
    },
    "papermill": {
     "duration": 0.141604,
     "end_time": "2022-12-28T19:09:55.929945",
     "exception": false,
     "start_time": "2022-12-28T19:09:55.788341",
     "status": "completed"
    },
    "tags": []
   },
   "outputs": [
    {
     "data": {
      "text/html": [
       "<div>\n",
       "<style scoped>\n",
       "    .dataframe tbody tr th:only-of-type {\n",
       "        vertical-align: middle;\n",
       "    }\n",
       "\n",
       "    .dataframe tbody tr th {\n",
       "        vertical-align: top;\n",
       "    }\n",
       "\n",
       "    .dataframe thead th {\n",
       "        text-align: right;\n",
       "    }\n",
       "</style>\n",
       "<table border=\"1\" class=\"dataframe\">\n",
       "  <thead>\n",
       "    <tr style=\"text-align: right;\">\n",
       "      <th></th>\n",
       "      <th>User_ID</th>\n",
       "      <th>Occupation</th>\n",
       "      <th>Marital_Status</th>\n",
       "      <th>Product_Category_1</th>\n",
       "      <th>Product_Category_2</th>\n",
       "      <th>Product_Category_3</th>\n",
       "      <th>Purchase</th>\n",
       "    </tr>\n",
       "  </thead>\n",
       "  <tbody>\n",
       "    <tr>\n",
       "      <th>count</th>\n",
       "      <td>5.500680e+05</td>\n",
       "      <td>550068.000000</td>\n",
       "      <td>550068.000000</td>\n",
       "      <td>550068.000000</td>\n",
       "      <td>376430.000000</td>\n",
       "      <td>166821.000000</td>\n",
       "      <td>550068.000000</td>\n",
       "    </tr>\n",
       "    <tr>\n",
       "      <th>mean</th>\n",
       "      <td>1.003029e+06</td>\n",
       "      <td>8.076707</td>\n",
       "      <td>0.409653</td>\n",
       "      <td>5.404270</td>\n",
       "      <td>9.842329</td>\n",
       "      <td>12.668243</td>\n",
       "      <td>9263.968713</td>\n",
       "    </tr>\n",
       "    <tr>\n",
       "      <th>std</th>\n",
       "      <td>1.727592e+03</td>\n",
       "      <td>6.522660</td>\n",
       "      <td>0.491770</td>\n",
       "      <td>3.936211</td>\n",
       "      <td>5.086590</td>\n",
       "      <td>4.125338</td>\n",
       "      <td>5023.065394</td>\n",
       "    </tr>\n",
       "    <tr>\n",
       "      <th>min</th>\n",
       "      <td>1.000001e+06</td>\n",
       "      <td>0.000000</td>\n",
       "      <td>0.000000</td>\n",
       "      <td>1.000000</td>\n",
       "      <td>2.000000</td>\n",
       "      <td>3.000000</td>\n",
       "      <td>12.000000</td>\n",
       "    </tr>\n",
       "    <tr>\n",
       "      <th>25%</th>\n",
       "      <td>1.001516e+06</td>\n",
       "      <td>2.000000</td>\n",
       "      <td>0.000000</td>\n",
       "      <td>1.000000</td>\n",
       "      <td>5.000000</td>\n",
       "      <td>9.000000</td>\n",
       "      <td>5823.000000</td>\n",
       "    </tr>\n",
       "    <tr>\n",
       "      <th>50%</th>\n",
       "      <td>1.003077e+06</td>\n",
       "      <td>7.000000</td>\n",
       "      <td>0.000000</td>\n",
       "      <td>5.000000</td>\n",
       "      <td>9.000000</td>\n",
       "      <td>14.000000</td>\n",
       "      <td>8047.000000</td>\n",
       "    </tr>\n",
       "    <tr>\n",
       "      <th>75%</th>\n",
       "      <td>1.004478e+06</td>\n",
       "      <td>14.000000</td>\n",
       "      <td>1.000000</td>\n",
       "      <td>8.000000</td>\n",
       "      <td>15.000000</td>\n",
       "      <td>16.000000</td>\n",
       "      <td>12054.000000</td>\n",
       "    </tr>\n",
       "    <tr>\n",
       "      <th>max</th>\n",
       "      <td>1.006040e+06</td>\n",
       "      <td>20.000000</td>\n",
       "      <td>1.000000</td>\n",
       "      <td>20.000000</td>\n",
       "      <td>18.000000</td>\n",
       "      <td>18.000000</td>\n",
       "      <td>23961.000000</td>\n",
       "    </tr>\n",
       "  </tbody>\n",
       "</table>\n",
       "</div>"
      ],
      "text/plain": [
       "            User_ID     Occupation  Marital_Status  Product_Category_1  \\\n",
       "count  5.500680e+05  550068.000000   550068.000000       550068.000000   \n",
       "mean   1.003029e+06       8.076707        0.409653            5.404270   \n",
       "std    1.727592e+03       6.522660        0.491770            3.936211   \n",
       "min    1.000001e+06       0.000000        0.000000            1.000000   \n",
       "25%    1.001516e+06       2.000000        0.000000            1.000000   \n",
       "50%    1.003077e+06       7.000000        0.000000            5.000000   \n",
       "75%    1.004478e+06      14.000000        1.000000            8.000000   \n",
       "max    1.006040e+06      20.000000        1.000000           20.000000   \n",
       "\n",
       "       Product_Category_2  Product_Category_3       Purchase  \n",
       "count       376430.000000       166821.000000  550068.000000  \n",
       "mean             9.842329           12.668243    9263.968713  \n",
       "std              5.086590            4.125338    5023.065394  \n",
       "min              2.000000            3.000000      12.000000  \n",
       "25%              5.000000            9.000000    5823.000000  \n",
       "50%              9.000000           14.000000    8047.000000  \n",
       "75%             15.000000           16.000000   12054.000000  \n",
       "max             18.000000           18.000000   23961.000000  "
      ]
     },
     "execution_count": 9,
     "metadata": {},
     "output_type": "execute_result"
    }
   ],
   "source": [
    "df.describe()"
   ]
  },
  {
   "cell_type": "code",
   "execution_count": 10,
   "id": "6fbb3790",
   "metadata": {
    "execution": {
     "iopub.execute_input": "2022-12-28T19:09:55.950137Z",
     "iopub.status.busy": "2022-12-28T19:09:55.949774Z",
     "iopub.status.idle": "2022-12-28T19:09:55.993187Z",
     "shell.execute_reply": "2022-12-28T19:09:55.992454Z"
    },
    "papermill": {
     "duration": 0.056203,
     "end_time": "2022-12-28T19:09:55.995426",
     "exception": false,
     "start_time": "2022-12-28T19:09:55.939223",
     "status": "completed"
    },
    "tags": []
   },
   "outputs": [],
   "source": [
    "df['Product_Category_2'] = df['Product_Category_2'].fillna('0')"
   ]
  },
  {
   "cell_type": "code",
   "execution_count": 11,
   "id": "32bd70ca",
   "metadata": {
    "execution": {
     "iopub.execute_input": "2022-12-28T19:09:56.016853Z",
     "iopub.status.busy": "2022-12-28T19:09:56.016463Z",
     "iopub.status.idle": "2022-12-28T19:09:56.067385Z",
     "shell.execute_reply": "2022-12-28T19:09:56.065921Z"
    },
    "papermill": {
     "duration": 0.064348,
     "end_time": "2022-12-28T19:09:56.070359",
     "exception": false,
     "start_time": "2022-12-28T19:09:56.006011",
     "status": "completed"
    },
    "tags": []
   },
   "outputs": [],
   "source": [
    "df['Product_Category_3'] = df['Product_Category_3'].fillna('0')"
   ]
  },
  {
   "cell_type": "code",
   "execution_count": 12,
   "id": "7baa590e",
   "metadata": {
    "execution": {
     "iopub.execute_input": "2022-12-28T19:09:56.090895Z",
     "iopub.status.busy": "2022-12-28T19:09:56.090538Z",
     "iopub.status.idle": "2022-12-28T19:09:56.132444Z",
     "shell.execute_reply": "2022-12-28T19:09:56.131413Z"
    },
    "papermill": {
     "duration": 0.054285,
     "end_time": "2022-12-28T19:09:56.134426",
     "exception": false,
     "start_time": "2022-12-28T19:09:56.080141",
     "status": "completed"
    },
    "tags": []
   },
   "outputs": [],
   "source": [
    "df['Product_Category_2'] = df['Product_Category_2'].astype(int)"
   ]
  },
  {
   "cell_type": "code",
   "execution_count": 13,
   "id": "9cd30435",
   "metadata": {
    "execution": {
     "iopub.execute_input": "2022-12-28T19:09:56.155364Z",
     "iopub.status.busy": "2022-12-28T19:09:56.154176Z",
     "iopub.status.idle": "2022-12-28T19:09:56.210625Z",
     "shell.execute_reply": "2022-12-28T19:09:56.209333Z"
    },
    "papermill": {
     "duration": 0.069784,
     "end_time": "2022-12-28T19:09:56.213356",
     "exception": false,
     "start_time": "2022-12-28T19:09:56.143572",
     "status": "completed"
    },
    "tags": []
   },
   "outputs": [],
   "source": [
    "df['Product_Category_3'] = df['Product_Category_3'].astype(int)"
   ]
  },
  {
   "cell_type": "code",
   "execution_count": 14,
   "id": "67818629",
   "metadata": {
    "execution": {
     "iopub.execute_input": "2022-12-28T19:09:56.233332Z",
     "iopub.status.busy": "2022-12-28T19:09:56.232945Z",
     "iopub.status.idle": "2022-12-28T19:09:56.252983Z",
     "shell.execute_reply": "2022-12-28T19:09:56.252091Z"
    },
    "papermill": {
     "duration": 0.032505,
     "end_time": "2022-12-28T19:09:56.255009",
     "exception": false,
     "start_time": "2022-12-28T19:09:56.222504",
     "status": "completed"
    },
    "tags": []
   },
   "outputs": [
    {
     "data": {
      "text/html": [
       "<div>\n",
       "<style scoped>\n",
       "    .dataframe tbody tr th:only-of-type {\n",
       "        vertical-align: middle;\n",
       "    }\n",
       "\n",
       "    .dataframe tbody tr th {\n",
       "        vertical-align: top;\n",
       "    }\n",
       "\n",
       "    .dataframe thead th {\n",
       "        text-align: right;\n",
       "    }\n",
       "</style>\n",
       "<table border=\"1\" class=\"dataframe\">\n",
       "  <thead>\n",
       "    <tr style=\"text-align: right;\">\n",
       "      <th></th>\n",
       "      <th>User_ID</th>\n",
       "      <th>Product_ID</th>\n",
       "      <th>Gender</th>\n",
       "      <th>Age</th>\n",
       "      <th>Occupation</th>\n",
       "      <th>City_Category</th>\n",
       "      <th>Stay_In_Current_City_Years</th>\n",
       "      <th>Marital_Status</th>\n",
       "      <th>Product_Category_1</th>\n",
       "      <th>Product_Category_2</th>\n",
       "      <th>Product_Category_3</th>\n",
       "      <th>Purchase</th>\n",
       "    </tr>\n",
       "  </thead>\n",
       "  <tbody>\n",
       "    <tr>\n",
       "      <th>0</th>\n",
       "      <td>1000001</td>\n",
       "      <td>P00069042</td>\n",
       "      <td>F</td>\n",
       "      <td>0-17</td>\n",
       "      <td>10</td>\n",
       "      <td>A</td>\n",
       "      <td>2</td>\n",
       "      <td>0</td>\n",
       "      <td>3</td>\n",
       "      <td>0</td>\n",
       "      <td>0</td>\n",
       "      <td>8370</td>\n",
       "    </tr>\n",
       "    <tr>\n",
       "      <th>1</th>\n",
       "      <td>1000001</td>\n",
       "      <td>P00248942</td>\n",
       "      <td>F</td>\n",
       "      <td>0-17</td>\n",
       "      <td>10</td>\n",
       "      <td>A</td>\n",
       "      <td>2</td>\n",
       "      <td>0</td>\n",
       "      <td>1</td>\n",
       "      <td>6</td>\n",
       "      <td>14</td>\n",
       "      <td>15200</td>\n",
       "    </tr>\n",
       "    <tr>\n",
       "      <th>2</th>\n",
       "      <td>1000001</td>\n",
       "      <td>P00087842</td>\n",
       "      <td>F</td>\n",
       "      <td>0-17</td>\n",
       "      <td>10</td>\n",
       "      <td>A</td>\n",
       "      <td>2</td>\n",
       "      <td>0</td>\n",
       "      <td>12</td>\n",
       "      <td>0</td>\n",
       "      <td>0</td>\n",
       "      <td>1422</td>\n",
       "    </tr>\n",
       "    <tr>\n",
       "      <th>3</th>\n",
       "      <td>1000001</td>\n",
       "      <td>P00085442</td>\n",
       "      <td>F</td>\n",
       "      <td>0-17</td>\n",
       "      <td>10</td>\n",
       "      <td>A</td>\n",
       "      <td>2</td>\n",
       "      <td>0</td>\n",
       "      <td>12</td>\n",
       "      <td>14</td>\n",
       "      <td>0</td>\n",
       "      <td>1057</td>\n",
       "    </tr>\n",
       "    <tr>\n",
       "      <th>4</th>\n",
       "      <td>1000002</td>\n",
       "      <td>P00285442</td>\n",
       "      <td>M</td>\n",
       "      <td>55+</td>\n",
       "      <td>16</td>\n",
       "      <td>C</td>\n",
       "      <td>4+</td>\n",
       "      <td>0</td>\n",
       "      <td>8</td>\n",
       "      <td>0</td>\n",
       "      <td>0</td>\n",
       "      <td>7969</td>\n",
       "    </tr>\n",
       "    <tr>\n",
       "      <th>...</th>\n",
       "      <td>...</td>\n",
       "      <td>...</td>\n",
       "      <td>...</td>\n",
       "      <td>...</td>\n",
       "      <td>...</td>\n",
       "      <td>...</td>\n",
       "      <td>...</td>\n",
       "      <td>...</td>\n",
       "      <td>...</td>\n",
       "      <td>...</td>\n",
       "      <td>...</td>\n",
       "      <td>...</td>\n",
       "    </tr>\n",
       "    <tr>\n",
       "      <th>550063</th>\n",
       "      <td>1006033</td>\n",
       "      <td>P00372445</td>\n",
       "      <td>M</td>\n",
       "      <td>51-55</td>\n",
       "      <td>13</td>\n",
       "      <td>B</td>\n",
       "      <td>1</td>\n",
       "      <td>1</td>\n",
       "      <td>20</td>\n",
       "      <td>0</td>\n",
       "      <td>0</td>\n",
       "      <td>368</td>\n",
       "    </tr>\n",
       "    <tr>\n",
       "      <th>550064</th>\n",
       "      <td>1006035</td>\n",
       "      <td>P00375436</td>\n",
       "      <td>F</td>\n",
       "      <td>26-35</td>\n",
       "      <td>1</td>\n",
       "      <td>C</td>\n",
       "      <td>3</td>\n",
       "      <td>0</td>\n",
       "      <td>20</td>\n",
       "      <td>0</td>\n",
       "      <td>0</td>\n",
       "      <td>371</td>\n",
       "    </tr>\n",
       "    <tr>\n",
       "      <th>550065</th>\n",
       "      <td>1006036</td>\n",
       "      <td>P00375436</td>\n",
       "      <td>F</td>\n",
       "      <td>26-35</td>\n",
       "      <td>15</td>\n",
       "      <td>B</td>\n",
       "      <td>4+</td>\n",
       "      <td>1</td>\n",
       "      <td>20</td>\n",
       "      <td>0</td>\n",
       "      <td>0</td>\n",
       "      <td>137</td>\n",
       "    </tr>\n",
       "    <tr>\n",
       "      <th>550066</th>\n",
       "      <td>1006038</td>\n",
       "      <td>P00375436</td>\n",
       "      <td>F</td>\n",
       "      <td>55+</td>\n",
       "      <td>1</td>\n",
       "      <td>C</td>\n",
       "      <td>2</td>\n",
       "      <td>0</td>\n",
       "      <td>20</td>\n",
       "      <td>0</td>\n",
       "      <td>0</td>\n",
       "      <td>365</td>\n",
       "    </tr>\n",
       "    <tr>\n",
       "      <th>550067</th>\n",
       "      <td>1006039</td>\n",
       "      <td>P00371644</td>\n",
       "      <td>F</td>\n",
       "      <td>46-50</td>\n",
       "      <td>0</td>\n",
       "      <td>B</td>\n",
       "      <td>4+</td>\n",
       "      <td>1</td>\n",
       "      <td>20</td>\n",
       "      <td>0</td>\n",
       "      <td>0</td>\n",
       "      <td>490</td>\n",
       "    </tr>\n",
       "  </tbody>\n",
       "</table>\n",
       "<p>550068 rows × 12 columns</p>\n",
       "</div>"
      ],
      "text/plain": [
       "        User_ID Product_ID Gender    Age  Occupation City_Category  \\\n",
       "0       1000001  P00069042      F   0-17          10             A   \n",
       "1       1000001  P00248942      F   0-17          10             A   \n",
       "2       1000001  P00087842      F   0-17          10             A   \n",
       "3       1000001  P00085442      F   0-17          10             A   \n",
       "4       1000002  P00285442      M    55+          16             C   \n",
       "...         ...        ...    ...    ...         ...           ...   \n",
       "550063  1006033  P00372445      M  51-55          13             B   \n",
       "550064  1006035  P00375436      F  26-35           1             C   \n",
       "550065  1006036  P00375436      F  26-35          15             B   \n",
       "550066  1006038  P00375436      F    55+           1             C   \n",
       "550067  1006039  P00371644      F  46-50           0             B   \n",
       "\n",
       "       Stay_In_Current_City_Years  Marital_Status  Product_Category_1  \\\n",
       "0                               2               0                   3   \n",
       "1                               2               0                   1   \n",
       "2                               2               0                  12   \n",
       "3                               2               0                  12   \n",
       "4                              4+               0                   8   \n",
       "...                           ...             ...                 ...   \n",
       "550063                          1               1                  20   \n",
       "550064                          3               0                  20   \n",
       "550065                         4+               1                  20   \n",
       "550066                          2               0                  20   \n",
       "550067                         4+               1                  20   \n",
       "\n",
       "        Product_Category_2  Product_Category_3  Purchase  \n",
       "0                        0                   0      8370  \n",
       "1                        6                  14     15200  \n",
       "2                        0                   0      1422  \n",
       "3                       14                   0      1057  \n",
       "4                        0                   0      7969  \n",
       "...                    ...                 ...       ...  \n",
       "550063                   0                   0       368  \n",
       "550064                   0                   0       371  \n",
       "550065                   0                   0       137  \n",
       "550066                   0                   0       365  \n",
       "550067                   0                   0       490  \n",
       "\n",
       "[550068 rows x 12 columns]"
      ]
     },
     "execution_count": 14,
     "metadata": {},
     "output_type": "execute_result"
    }
   ],
   "source": [
    "df"
   ]
  },
  {
   "cell_type": "markdown",
   "id": "15110ac8",
   "metadata": {
    "papermill": {
     "duration": 0.009238,
     "end_time": "2022-12-28T19:09:56.273846",
     "exception": false,
     "start_time": "2022-12-28T19:09:56.264608",
     "status": "completed"
    },
    "tags": []
   },
   "source": [
    "# Which gender buys more"
   ]
  },
  {
   "cell_type": "code",
   "execution_count": 15,
   "id": "03c5cb5d",
   "metadata": {
    "execution": {
     "iopub.execute_input": "2022-12-28T19:09:56.294990Z",
     "iopub.status.busy": "2022-12-28T19:09:56.294039Z",
     "iopub.status.idle": "2022-12-28T19:09:56.523929Z",
     "shell.execute_reply": "2022-12-28T19:09:56.523021Z"
    },
    "papermill": {
     "duration": 0.242424,
     "end_time": "2022-12-28T19:09:56.525803",
     "exception": false,
     "start_time": "2022-12-28T19:09:56.283379",
     "status": "completed"
    },
    "tags": []
   },
   "outputs": [
    {
     "data": {
      "text/plain": [
       "<AxesSubplot:xlabel='Gender'>"
      ]
     },
     "execution_count": 15,
     "metadata": {},
     "output_type": "execute_result"
    },
    {
     "data": {
      "image/png": "[encoded data removed]",
      "text/plain": [
       "<Figure size 432x288 with 1 Axes>"
      ]
     },
     "metadata": {
      "needs_background": "light"
     },
     "output_type": "display_data"
    }
   ],
   "source": [
    "df.groupby('Gender')['Purchase'].sum().plot(kind='bar')"
   ]
  },
  {
   "cell_type": "markdown",
   "id": "c9e02124",
   "metadata": {
    "papermill": {
     "duration": 0.009303,
     "end_time": "2022-12-28T19:09:56.544954",
     "exception": false,
     "start_time": "2022-12-28T19:09:56.535651",
     "status": "completed"
    },
    "tags": []
   },
   "source": [
    "# M vs F count"
   ]
  },
  {
   "cell_type": "code",
   "execution_count": 16,
   "id": "10213368",
   "metadata": {
    "execution": {
     "iopub.execute_input": "2022-12-28T19:09:56.565682Z",
     "iopub.status.busy": "2022-12-28T19:09:56.565089Z",
     "iopub.status.idle": "2022-12-28T19:09:56.729381Z",
     "shell.execute_reply": "2022-12-28T19:09:56.728683Z"
    },
    "papermill": {
     "duration": 0.176959,
     "end_time": "2022-12-28T19:09:56.731358",
     "exception": false,
     "start_time": "2022-12-28T19:09:56.554399",
     "status": "completed"
    },
    "tags": []
   },
   "outputs": [
    {
     "data": {
      "text/plain": [
       "<AxesSubplot:xlabel='Gender'>"
      ]
     },
     "execution_count": 16,
     "metadata": {},
     "output_type": "execute_result"
    },
    {
     "data": {
      "image/png": "[encoded data removed]",
      "text/plain": [
       "<Figure size 432x288 with 1 Axes>"
      ]
     },
     "metadata": {
      "needs_background": "light"
     },
     "output_type": "display_data"
    }
   ],
   "source": [
    "df.groupby('Gender')['User_ID'].agg('count').plot(kind='bar')"
   ]
  },
  {
   "cell_type": "markdown",
   "id": "1b978acd",
   "metadata": {
    "papermill": {
     "duration": 0.009538,
     "end_time": "2022-12-28T19:09:56.752966",
     "exception": false,
     "start_time": "2022-12-28T19:09:56.743428",
     "status": "completed"
    },
    "tags": []
   },
   "source": [
    "# How does marital status affect purchases"
   ]
  },
  {
   "cell_type": "code",
   "execution_count": 17,
   "id": "8be8c75a",
   "metadata": {
    "execution": {
     "iopub.execute_input": "2022-12-28T19:09:56.774079Z",
     "iopub.status.busy": "2022-12-28T19:09:56.773740Z",
     "iopub.status.idle": "2022-12-28T19:09:56.907835Z",
     "shell.execute_reply": "2022-12-28T19:09:56.906926Z"
    },
    "papermill": {
     "duration": 0.147099,
     "end_time": "2022-12-28T19:09:56.909868",
     "exception": false,
     "start_time": "2022-12-28T19:09:56.762769",
     "status": "completed"
    },
    "tags": []
   },
   "outputs": [
    {
     "data": {
      "text/plain": [
       "<AxesSubplot:xlabel='Marital_Status'>"
      ]
     },
     "execution_count": 17,
     "metadata": {},
     "output_type": "execute_result"
    },
    {
     "data": {
      "image/png": "[encoded data removed]",
      "text/plain": [
       "<Figure size 432x288 with 1 Axes>"
      ]
     },
     "metadata": {
      "needs_background": "light"
     },
     "output_type": "display_data"
    }
   ],
   "source": [
    "df.groupby('Marital_Status')['Purchase'].agg('sum').plot(kind='bar')"
   ]
  },
  {
   "cell_type": "markdown",
   "id": "a5403f95",
   "metadata": {
    "papermill": {
     "duration": 0.010167,
     "end_time": "2022-12-28T19:09:56.933244",
     "exception": false,
     "start_time": "2022-12-28T19:09:56.923077",
     "status": "completed"
    },
    "tags": []
   },
   "source": [
    "# Total number of buyers by city & Total number of purchases by city"
   ]
  },
  {
   "cell_type": "code",
   "execution_count": 18,
   "id": "7ce48625",
   "metadata": {
    "execution": {
     "iopub.execute_input": "2022-12-28T19:09:56.955875Z",
     "iopub.status.busy": "2022-12-28T19:09:56.955246Z",
     "iopub.status.idle": "2022-12-28T19:09:57.332895Z",
     "shell.execute_reply": "2022-12-28T19:09:57.331079Z"
    },
    "papermill": {
     "duration": 0.393378,
     "end_time": "2022-12-28T19:09:57.336931",
     "exception": false,
     "start_time": "2022-12-28T19:09:56.943553",
     "status": "completed"
    },
    "tags": []
   },
   "outputs": [
    {
     "data": {
      "text/html": [
       "<div>\n",
       "<style scoped>\n",
       "    .dataframe tbody tr th:only-of-type {\n",
       "        vertical-align: middle;\n",
       "    }\n",
       "\n",
       "    .dataframe tbody tr th {\n",
       "        vertical-align: top;\n",
       "    }\n",
       "\n",
       "    .dataframe thead th {\n",
       "        text-align: right;\n",
       "    }\n",
       "</style>\n",
       "<table border=\"1\" class=\"dataframe\">\n",
       "  <thead>\n",
       "    <tr style=\"text-align: right;\">\n",
       "      <th></th>\n",
       "      <th>count</th>\n",
       "    </tr>\n",
       "    <tr>\n",
       "      <th>City_Category</th>\n",
       "      <th></th>\n",
       "    </tr>\n",
       "  </thead>\n",
       "  <tbody>\n",
       "    <tr>\n",
       "      <th>A</th>\n",
       "      <td>147720</td>\n",
       "    </tr>\n",
       "    <tr>\n",
       "      <th>B</th>\n",
       "      <td>231173</td>\n",
       "    </tr>\n",
       "    <tr>\n",
       "      <th>C</th>\n",
       "      <td>171175</td>\n",
       "    </tr>\n",
       "  </tbody>\n",
       "</table>\n",
       "</div>"
      ],
      "text/plain": [
       "                count\n",
       "City_Category        \n",
       "A              147720\n",
       "B              231173\n",
       "C              171175"
      ]
     },
     "execution_count": 18,
     "metadata": {},
     "output_type": "execute_result"
    },
    {
     "data": {
      "image/png": "[encoded data removed]",
      "text/plain": [
       "<Figure size 432x288 with 1 Axes>"
      ]
     },
     "metadata": {
      "needs_background": "light"
     },
     "output_type": "display_data"
    },
    {
     "data": {
      "image/png": "[encoded data removed]",
      "text/plain": [
       "<Figure size 432x288 with 1 Axes>"
      ]
     },
     "metadata": {
      "needs_background": "light"
     },
     "output_type": "display_data"
    }
   ],
   "source": [
    "df.groupby('City_Category')['Purchase'].agg(['sum']).sort_values(by='sum',ascending=False).plot(kind='bar')\n",
    "df.groupby('City_Category')['Purchase'].agg(['count']).sort_values(by='count',ascending=False).plot(kind='bar')\n",
    "df.groupby('City_Category')['User_ID'].agg(['count'])"
   ]
  },
  {
   "cell_type": "markdown",
   "id": "96a0fec4",
   "metadata": {
    "papermill": {
     "duration": 0.011295,
     "end_time": "2022-12-28T19:09:57.360298",
     "exception": false,
     "start_time": "2022-12-28T19:09:57.349003",
     "status": "completed"
    },
    "tags": []
   },
   "source": [
    "# Occupation vs Purchased "
   ]
  },
  {
   "cell_type": "code",
   "execution_count": 19,
   "id": "371e9280",
   "metadata": {
    "execution": {
     "iopub.execute_input": "2022-12-28T19:09:57.384425Z",
     "iopub.status.busy": "2022-12-28T19:09:57.383824Z",
     "iopub.status.idle": "2022-12-28T19:09:57.885208Z",
     "shell.execute_reply": "2022-12-28T19:09:57.884326Z"
    },
    "papermill": {
     "duration": 0.515738,
     "end_time": "2022-12-28T19:09:57.887185",
     "exception": false,
     "start_time": "2022-12-28T19:09:57.371447",
     "status": "completed"
    },
    "tags": []
   },
   "outputs": [
    {
     "data": {
      "text/plain": [
       "<AxesSubplot:ylabel='Occupation'>"
      ]
     },
     "execution_count": 19,
     "metadata": {},
     "output_type": "execute_result"
    },
    {
     "data": {
      "image/png": "[encoded data removed]",
      "text/plain": [
       "<Figure size 432x288 with 1 Axes>"
      ]
     },
     "metadata": {
      "needs_background": "light"
     },
     "output_type": "display_data"
    },
    {
     "data": {
      "image/png": "[encoded data removed]",
      "text/plain": [
       "<Figure size 432x288 with 1 Axes>"
      ]
     },
     "metadata": {
      "needs_background": "light"
     },
     "output_type": "display_data"
    }
   ],
   "source": [
    "df.groupby('Occupation')['Purchase'].agg(['count']).sort_values(by='count',ascending=False).plot(kind='barh')\n",
    "df.groupby('Occupation')['Purchase'].agg(['sum']).sort_values(by='sum',ascending=False).plot(kind='barh')"
   ]
  },
  {
   "cell_type": "markdown",
   "id": "f44102ff",
   "metadata": {
    "papermill": {
     "duration": 0.011295,
     "end_time": "2022-12-28T19:09:57.910073",
     "exception": false,
     "start_time": "2022-12-28T19:09:57.898778",
     "status": "completed"
    },
    "tags": []
   },
   "source": [
    "# Age vs Purchased"
   ]
  },
  {
   "cell_type": "code",
   "execution_count": 20,
   "id": "d3c73f5f",
   "metadata": {
    "execution": {
     "iopub.execute_input": "2022-12-28T19:09:57.936699Z",
     "iopub.status.busy": "2022-12-28T19:09:57.936343Z",
     "iopub.status.idle": "2022-12-28T19:09:57.942588Z",
     "shell.execute_reply": "2022-12-28T19:09:57.941104Z"
    },
    "papermill": {
     "duration": 0.022529,
     "end_time": "2022-12-28T19:09:57.944768",
     "exception": false,
     "start_time": "2022-12-28T19:09:57.922239",
     "status": "completed"
    },
    "tags": []
   },
   "outputs": [],
   "source": [
    "def Age_group_1 (x):\n",
    "  if x in ['0-17', '18-25']:\n",
    "    return 'youth'\n",
    "  if x in ['26-35', '36-45']:\n",
    "    return 'middle age'\n",
    "  if x in ['46-50', '51-55']:\n",
    "    return 'older than average'\n",
    "  return x"
   ]
  },
  {
   "cell_type": "code",
   "execution_count": 21,
   "id": "049940c6",
   "metadata": {
    "execution": {
     "iopub.execute_input": "2022-12-28T19:09:57.969789Z",
     "iopub.status.busy": "2022-12-28T19:09:57.969423Z",
     "iopub.status.idle": "2022-12-28T19:09:58.093120Z",
     "shell.execute_reply": "2022-12-28T19:09:58.091774Z"
    },
    "papermill": {
     "duration": 0.13894,
     "end_time": "2022-12-28T19:09:58.095685",
     "exception": false,
     "start_time": "2022-12-28T19:09:57.956745",
     "status": "completed"
    },
    "tags": []
   },
   "outputs": [],
   "source": [
    "df['Age_group'] = df['Age'].apply(Age_group_1)"
   ]
  },
  {
   "cell_type": "code",
   "execution_count": 22,
   "id": "64460db8",
   "metadata": {
    "execution": {
     "iopub.execute_input": "2022-12-28T19:09:58.121051Z",
     "iopub.status.busy": "2022-12-28T19:09:58.120677Z",
     "iopub.status.idle": "2022-12-28T19:09:58.324881Z",
     "shell.execute_reply": "2022-12-28T19:09:58.323936Z"
    },
    "papermill": {
     "duration": 0.219771,
     "end_time": "2022-12-28T19:09:58.326818",
     "exception": false,
     "start_time": "2022-12-28T19:09:58.107047",
     "status": "completed"
    },
    "tags": []
   },
   "outputs": [
    {
     "data": {
      "text/plain": [
       "<AxesSubplot:xlabel='Age_group'>"
      ]
     },
     "execution_count": 22,
     "metadata": {},
     "output_type": "execute_result"
    },
    {
     "data": {
      "image/png": "[encoded data removed]",
      "text/plain": [
       "<Figure size 432x288 with 1 Axes>"
      ]
     },
     "metadata": {
      "needs_background": "light"
     },
     "output_type": "display_data"
    }
   ],
   "source": [
    "df.groupby('Age_group')['Purchase'].agg(['sum']).plot(kind='bar')"
   ]
  },
  {
   "cell_type": "markdown",
   "id": "9310e1f2",
   "metadata": {
    "papermill": {
     "duration": 0.012017,
     "end_time": "2022-12-28T19:09:58.351460",
     "exception": false,
     "start_time": "2022-12-28T19:09:58.339443",
     "status": "completed"
    },
    "tags": []
   },
   "source": [
    "# The number of buyers of different genders relative to the time of their stay in the city"
   ]
  },
  {
   "cell_type": "code",
   "execution_count": 23,
   "id": "cdde4a74",
   "metadata": {
    "execution": {
     "iopub.execute_input": "2022-12-28T19:09:58.377218Z",
     "iopub.status.busy": "2022-12-28T19:09:58.376333Z",
     "iopub.status.idle": "2022-12-28T19:09:58.856883Z",
     "shell.execute_reply": "2022-12-28T19:09:58.855382Z"
    },
    "papermill": {
     "duration": 0.496262,
     "end_time": "2022-12-28T19:09:58.859699",
     "exception": false,
     "start_time": "2022-12-28T19:09:58.363437",
     "status": "completed"
    },
    "tags": []
   },
   "outputs": [
    {
     "data": {
      "text/plain": [
       "<AxesSubplot:ylabel='Stay_In_Current_City_Years'>"
      ]
     },
     "execution_count": 23,
     "metadata": {},
     "output_type": "execute_result"
    },
    {
     "data": {
      "image/png": "[encoded data removed]",
      "text/plain": [
       "<Figure size 432x288 with 1 Axes>"
      ]
     },
     "metadata": {
      "needs_background": "light"
     },
     "output_type": "display_data"
    }
   ],
   "source": [
    "df.pivot_table(index='Stay_In_Current_City_Years', columns='Gender',values='Purchase', aggfunc=['count','median']).plot(kind='barh')"
   ]
  },
  {
   "cell_type": "markdown",
   "id": "2b87f00d",
   "metadata": {
    "papermill": {
     "duration": 0.012429,
     "end_time": "2022-12-28T19:09:58.884952",
     "exception": false,
     "start_time": "2022-12-28T19:09:58.872523",
     "status": "completed"
    },
    "tags": []
   },
   "source": [
    "# Productcategory1/2/3 vs Purchased"
   ]
  },
  {
   "cell_type": "code",
   "execution_count": 24,
   "id": "0e053b0f",
   "metadata": {
    "execution": {
     "iopub.execute_input": "2022-12-28T19:09:58.912394Z",
     "iopub.status.busy": "2022-12-28T19:09:58.911232Z",
     "iopub.status.idle": "2022-12-28T19:09:59.772792Z",
     "shell.execute_reply": "2022-12-28T19:09:59.771686Z"
    },
    "papermill": {
     "duration": 0.877547,
     "end_time": "2022-12-28T19:09:59.774701",
     "exception": false,
     "start_time": "2022-12-28T19:09:58.897154",
     "status": "completed"
    },
    "tags": []
   },
   "outputs": [
    {
     "data": {
      "text/plain": [
       "<AxesSubplot:xlabel='Product_Category_3'>"
      ]
     },
     "execution_count": 24,
     "metadata": {},
     "output_type": "execute_result"
    },
    {
     "data": {
      "image/png": "[encoded data removed]",
      "text/plain": [
       "<Figure size 432x288 with 1 Axes>"
      ]
     },
     "metadata": {
      "needs_background": "light"
     },
     "output_type": "display_data"
    },
    {
     "data": {
      "image/png": "[encoded data removed]",
      "text/plain": [
       "<Figure size 432x288 with 1 Axes>"
      ]
     },
     "metadata": {
      "needs_background": "light"
     },
     "output_type": "display_data"
    },
    {
     "data": {
      "image/png": "[encoded data removed]",
      "text/plain": [
       "<Figure size 432x288 with 1 Axes>"
      ]
     },
     "metadata": {
      "needs_background": "light"
     },
     "output_type": "display_data"
    }
   ],
   "source": [
    "df.groupby('Product_Category_1')['Purchase'].agg(['sum']).sort_values(by='sum',ascending=False).plot(kind='bar')\n",
    "df.groupby('Product_Category_2')['Purchase'].agg(['sum']).sort_values(by='sum',ascending=False).plot(kind='bar')\n",
    "df.groupby('Product_Category_3')['Purchase'].agg(['sum']).sort_values(by='sum',ascending=False).plot(kind='bar')"
   ]
  },
  {
   "cell_type": "markdown",
   "id": "a395760c",
   "metadata": {
    "papermill": {
     "duration": 0.013477,
     "end_time": "2022-12-28T19:09:59.801018",
     "exception": false,
     "start_time": "2022-12-28T19:09:59.787541",
     "status": "completed"
    },
    "tags": []
   },
   "source": [
    "# Top 10 users"
   ]
  },
  {
   "cell_type": "code",
   "execution_count": 25,
   "id": "3d693308",
   "metadata": {
    "execution": {
     "iopub.execute_input": "2022-12-28T19:09:59.830158Z",
     "iopub.status.busy": "2022-12-28T19:09:59.829568Z",
     "iopub.status.idle": "2022-12-28T19:09:59.854743Z",
     "shell.execute_reply": "2022-12-28T19:09:59.852912Z"
    },
    "papermill": {
     "duration": 0.042404,
     "end_time": "2022-12-28T19:09:59.857393",
     "exception": false,
     "start_time": "2022-12-28T19:09:59.814989",
     "status": "completed"
    },
    "tags": []
   },
   "outputs": [
    {
     "data": {
      "text/html": [
       "<div>\n",
       "<style scoped>\n",
       "    .dataframe tbody tr th:only-of-type {\n",
       "        vertical-align: middle;\n",
       "    }\n",
       "\n",
       "    .dataframe tbody tr th {\n",
       "        vertical-align: top;\n",
       "    }\n",
       "\n",
       "    .dataframe thead th {\n",
       "        text-align: right;\n",
       "    }\n",
       "</style>\n",
       "<table border=\"1\" class=\"dataframe\">\n",
       "  <thead>\n",
       "    <tr style=\"text-align: right;\">\n",
       "      <th></th>\n",
       "      <th>User_ID</th>\n",
       "      <th>Purchase</th>\n",
       "    </tr>\n",
       "  </thead>\n",
       "  <tbody>\n",
       "    <tr>\n",
       "      <th>4166</th>\n",
       "      <td>1004277</td>\n",
       "      <td>10536909</td>\n",
       "    </tr>\n",
       "    <tr>\n",
       "      <th>1634</th>\n",
       "      <td>1001680</td>\n",
       "      <td>8699596</td>\n",
       "    </tr>\n",
       "    <tr>\n",
       "      <th>2831</th>\n",
       "      <td>1002909</td>\n",
       "      <td>7577756</td>\n",
       "    </tr>\n",
       "    <tr>\n",
       "      <th>1885</th>\n",
       "      <td>1001941</td>\n",
       "      <td>6817493</td>\n",
       "    </tr>\n",
       "    <tr>\n",
       "      <th>416</th>\n",
       "      <td>1000424</td>\n",
       "      <td>6573609</td>\n",
       "    </tr>\n",
       "    <tr>\n",
       "      <th>4335</th>\n",
       "      <td>1004448</td>\n",
       "      <td>6566245</td>\n",
       "    </tr>\n",
       "    <tr>\n",
       "      <th>5683</th>\n",
       "      <td>1005831</td>\n",
       "      <td>6512433</td>\n",
       "    </tr>\n",
       "    <tr>\n",
       "      <th>981</th>\n",
       "      <td>1001015</td>\n",
       "      <td>6511314</td>\n",
       "    </tr>\n",
       "    <tr>\n",
       "      <th>3297</th>\n",
       "      <td>1003391</td>\n",
       "      <td>6477160</td>\n",
       "    </tr>\n",
       "    <tr>\n",
       "      <th>1142</th>\n",
       "      <td>1001181</td>\n",
       "      <td>6387961</td>\n",
       "    </tr>\n",
       "  </tbody>\n",
       "</table>\n",
       "</div>"
      ],
      "text/plain": [
       "      User_ID  Purchase\n",
       "4166  1004277  10536909\n",
       "1634  1001680   8699596\n",
       "2831  1002909   7577756\n",
       "1885  1001941   6817493\n",
       "416   1000424   6573609\n",
       "4335  1004448   6566245\n",
       "5683  1005831   6512433\n",
       "981   1001015   6511314\n",
       "3297  1003391   6477160\n",
       "1142  1001181   6387961"
      ]
     },
     "execution_count": 25,
     "metadata": {},
     "output_type": "execute_result"
    }
   ],
   "source": [
    "df.groupby('User_ID', as_index=False).agg({'Purchase':'sum'}).sort_values(by='Purchase',ascending=False).head(10)"
   ]
  },
  {
   "cell_type": "markdown",
   "id": "a3e08910",
   "metadata": {
    "papermill": {
     "duration": 0.012904,
     "end_time": "2022-12-28T19:09:59.883912",
     "exception": false,
     "start_time": "2022-12-28T19:09:59.871008",
     "status": "completed"
    },
    "tags": []
   },
   "source": [
    "# Top 10 products"
   ]
  },
  {
   "cell_type": "code",
   "execution_count": 26,
   "id": "6e7cb949",
   "metadata": {
    "execution": {
     "iopub.execute_input": "2022-12-28T19:09:59.912589Z",
     "iopub.status.busy": "2022-12-28T19:09:59.912195Z",
     "iopub.status.idle": "2022-12-28T19:09:59.980119Z",
     "shell.execute_reply": "2022-12-28T19:09:59.978934Z"
    },
    "papermill": {
     "duration": 0.085124,
     "end_time": "2022-12-28T19:09:59.982861",
     "exception": false,
     "start_time": "2022-12-28T19:09:59.897737",
     "status": "completed"
    },
    "tags": []
   },
   "outputs": [
    {
     "data": {
      "text/html": [
       "<div>\n",
       "<style scoped>\n",
       "    .dataframe tbody tr th:only-of-type {\n",
       "        vertical-align: middle;\n",
       "    }\n",
       "\n",
       "    .dataframe tbody tr th {\n",
       "        vertical-align: top;\n",
       "    }\n",
       "\n",
       "    .dataframe thead th {\n",
       "        text-align: right;\n",
       "    }\n",
       "</style>\n",
       "<table border=\"1\" class=\"dataframe\">\n",
       "  <thead>\n",
       "    <tr style=\"text-align: right;\">\n",
       "      <th></th>\n",
       "      <th>Product_ID</th>\n",
       "      <th>Purchase</th>\n",
       "    </tr>\n",
       "  </thead>\n",
       "  <tbody>\n",
       "    <tr>\n",
       "      <th>2536</th>\n",
       "      <td>P00265242</td>\n",
       "      <td>1880</td>\n",
       "    </tr>\n",
       "    <tr>\n",
       "      <th>249</th>\n",
       "      <td>P00025442</td>\n",
       "      <td>1615</td>\n",
       "    </tr>\n",
       "    <tr>\n",
       "      <th>1016</th>\n",
       "      <td>P00110742</td>\n",
       "      <td>1612</td>\n",
       "    </tr>\n",
       "    <tr>\n",
       "      <th>1030</th>\n",
       "      <td>P00112142</td>\n",
       "      <td>1562</td>\n",
       "    </tr>\n",
       "    <tr>\n",
       "      <th>565</th>\n",
       "      <td>P00057642</td>\n",
       "      <td>1470</td>\n",
       "    </tr>\n",
       "    <tr>\n",
       "      <th>1745</th>\n",
       "      <td>P00184942</td>\n",
       "      <td>1440</td>\n",
       "    </tr>\n",
       "    <tr>\n",
       "      <th>458</th>\n",
       "      <td>P00046742</td>\n",
       "      <td>1438</td>\n",
       "    </tr>\n",
       "    <tr>\n",
       "      <th>569</th>\n",
       "      <td>P00058042</td>\n",
       "      <td>1422</td>\n",
       "    </tr>\n",
       "    <tr>\n",
       "      <th>1355</th>\n",
       "      <td>P00145042</td>\n",
       "      <td>1406</td>\n",
       "    </tr>\n",
       "    <tr>\n",
       "      <th>582</th>\n",
       "      <td>P00059442</td>\n",
       "      <td>1406</td>\n",
       "    </tr>\n",
       "  </tbody>\n",
       "</table>\n",
       "</div>"
      ],
      "text/plain": [
       "     Product_ID  Purchase\n",
       "2536  P00265242      1880\n",
       "249   P00025442      1615\n",
       "1016  P00110742      1612\n",
       "1030  P00112142      1562\n",
       "565   P00057642      1470\n",
       "1745  P00184942      1440\n",
       "458   P00046742      1438\n",
       "569   P00058042      1422\n",
       "1355  P00145042      1406\n",
       "582   P00059442      1406"
      ]
     },
     "execution_count": 26,
     "metadata": {},
     "output_type": "execute_result"
    }
   ],
   "source": [
    "df.groupby('Product_ID', as_index=False).agg({'Purchase':'count'}).sort_values(by='Purchase',ascending=False).head(10)"
   ]
  },
  {
   "cell_type": "markdown",
   "id": "2fc2fb36",
   "metadata": {
    "papermill": {
     "duration": 0.012829,
     "end_time": "2022-12-28T19:10:00.008986",
     "exception": false,
     "start_time": "2022-12-28T19:09:59.996157",
     "status": "completed"
    },
    "tags": []
   },
   "source": [
    "# Number of unique users by city"
   ]
  },
  {
   "cell_type": "code",
   "execution_count": 27,
   "id": "d9d54ba5",
   "metadata": {
    "execution": {
     "iopub.execute_input": "2022-12-28T19:10:00.037772Z",
     "iopub.status.busy": "2022-12-28T19:10:00.037089Z",
     "iopub.status.idle": "2022-12-28T19:10:00.102588Z",
     "shell.execute_reply": "2022-12-28T19:10:00.101929Z"
    },
    "papermill": {
     "duration": 0.082124,
     "end_time": "2022-12-28T19:10:00.104378",
     "exception": false,
     "start_time": "2022-12-28T19:10:00.022254",
     "status": "completed"
    },
    "tags": []
   },
   "outputs": [
    {
     "data": {
      "text/html": [
       "<div>\n",
       "<style scoped>\n",
       "    .dataframe tbody tr th:only-of-type {\n",
       "        vertical-align: middle;\n",
       "    }\n",
       "\n",
       "    .dataframe tbody tr th {\n",
       "        vertical-align: top;\n",
       "    }\n",
       "\n",
       "    .dataframe thead th {\n",
       "        text-align: right;\n",
       "    }\n",
       "</style>\n",
       "<table border=\"1\" class=\"dataframe\">\n",
       "  <thead>\n",
       "    <tr style=\"text-align: right;\">\n",
       "      <th></th>\n",
       "      <th>City_Category</th>\n",
       "      <th>User_ID</th>\n",
       "    </tr>\n",
       "  </thead>\n",
       "  <tbody>\n",
       "    <tr>\n",
       "      <th>2</th>\n",
       "      <td>C</td>\n",
       "      <td>3139</td>\n",
       "    </tr>\n",
       "    <tr>\n",
       "      <th>1</th>\n",
       "      <td>B</td>\n",
       "      <td>1707</td>\n",
       "    </tr>\n",
       "    <tr>\n",
       "      <th>0</th>\n",
       "      <td>A</td>\n",
       "      <td>1045</td>\n",
       "    </tr>\n",
       "  </tbody>\n",
       "</table>\n",
       "</div>"
      ],
      "text/plain": [
       "  City_Category  User_ID\n",
       "2             C     3139\n",
       "1             B     1707\n",
       "0             A     1045"
      ]
     },
     "execution_count": 27,
     "metadata": {},
     "output_type": "execute_result"
    }
   ],
   "source": [
    "df.groupby('City_Category', as_index=False).agg({'User_ID': 'nunique'}).sort_values('User_ID', ascending=False)"
   ]
  },
  {
   "cell_type": "markdown",
   "id": "def032b4",
   "metadata": {
    "papermill": {
     "duration": 0.013082,
     "end_time": "2022-12-28T19:10:00.131755",
     "exception": false,
     "start_time": "2022-12-28T19:10:00.118673",
     "status": "completed"
    },
    "tags": []
   },
   "source": [
    "# Correlation"
   ]
  },
  {
   "cell_type": "code",
   "execution_count": 28,
   "id": "d87a54e2",
   "metadata": {
    "execution": {
     "iopub.execute_input": "2022-12-28T19:10:00.160669Z",
     "iopub.status.busy": "2022-12-28T19:10:00.159698Z",
     "iopub.status.idle": "2022-12-28T19:10:09.826881Z",
     "shell.execute_reply": "2022-12-28T19:10:09.825546Z"
    },
    "papermill": {
     "duration": 9.684191,
     "end_time": "2022-12-28T19:10:09.829235",
     "exception": false,
     "start_time": "2022-12-28T19:10:00.145044",
     "status": "completed"
    },
    "tags": []
   },
   "outputs": [
    {
     "name": "stdout",
     "output_type": "stream",
     "text": [
      "interval columns not set, guessing: ['User_ID', 'Occupation', 'Marital_Status', 'Product_Category_1', 'Product_Category_2', 'Product_Category_3', 'Purchase']\n"
     ]
    },
    {
     "name": "stderr",
     "output_type": "stream",
     "text": [
      "/opt/conda/lib/python3.7/site-packages/phik/data_quality.py:62: UserWarning: The number of unique values of variable Product_ID is large: 3631. Are you sure this is not an interval variable? Analysis for pairs of variables including Product_ID can be slow.\n",
      "  col, df[col].nunique()\n"
     ]
    }
   ],
   "source": [
    "phik_overview= df.phik_matrix()"
   ]
  },
  {
   "cell_type": "code",
   "execution_count": 29,
   "id": "a5a38919",
   "metadata": {
    "execution": {
     "iopub.execute_input": "2022-12-28T19:10:09.858823Z",
     "iopub.status.busy": "2022-12-28T19:10:09.857146Z",
     "iopub.status.idle": "2022-12-28T19:10:09.878420Z",
     "shell.execute_reply": "2022-12-28T19:10:09.877044Z"
    },
    "papermill": {
     "duration": 0.037952,
     "end_time": "2022-12-28T19:10:09.880548",
     "exception": false,
     "start_time": "2022-12-28T19:10:09.842596",
     "status": "completed"
    },
    "tags": []
   },
   "outputs": [
    {
     "data": {
      "text/html": [
       "<div>\n",
       "<style scoped>\n",
       "    .dataframe tbody tr th:only-of-type {\n",
       "        vertical-align: middle;\n",
       "    }\n",
       "\n",
       "    .dataframe tbody tr th {\n",
       "        vertical-align: top;\n",
       "    }\n",
       "\n",
       "    .dataframe thead th {\n",
       "        text-align: right;\n",
       "    }\n",
       "</style>\n",
       "<table border=\"1\" class=\"dataframe\">\n",
       "  <thead>\n",
       "    <tr style=\"text-align: right;\">\n",
       "      <th></th>\n",
       "      <th>User_ID</th>\n",
       "      <th>Product_ID</th>\n",
       "      <th>Gender</th>\n",
       "      <th>Age</th>\n",
       "      <th>Occupation</th>\n",
       "      <th>City_Category</th>\n",
       "      <th>Stay_In_Current_City_Years</th>\n",
       "      <th>Marital_Status</th>\n",
       "      <th>Product_Category_1</th>\n",
       "      <th>Product_Category_2</th>\n",
       "      <th>Product_Category_3</th>\n",
       "      <th>Purchase</th>\n",
       "      <th>Age_group</th>\n",
       "    </tr>\n",
       "  </thead>\n",
       "  <tbody>\n",
       "    <tr>\n",
       "      <th>User_ID</th>\n",
       "      <td>1.000000</td>\n",
       "      <td>0.160070</td>\n",
       "      <td>0.125115</td>\n",
       "      <td>0.147915</td>\n",
       "      <td>0.231895</td>\n",
       "      <td>0.142671</td>\n",
       "      <td>0.160214</td>\n",
       "      <td>0.085761</td>\n",
       "      <td>0.049844</td>\n",
       "      <td>0.034584</td>\n",
       "      <td>0.021770</td>\n",
       "      <td>0.034357</td>\n",
       "      <td>0.130336</td>\n",
       "    </tr>\n",
       "    <tr>\n",
       "      <th>Product_ID</th>\n",
       "      <td>0.160070</td>\n",
       "      <td>1.000000</td>\n",
       "      <td>0.247942</td>\n",
       "      <td>0.329884</td>\n",
       "      <td>0.181804</td>\n",
       "      <td>0.237000</td>\n",
       "      <td>0.000000</td>\n",
       "      <td>0.105964</td>\n",
       "      <td>1.000000</td>\n",
       "      <td>1.000000</td>\n",
       "      <td>1.000000</td>\n",
       "      <td>0.886075</td>\n",
       "      <td>0.334374</td>\n",
       "    </tr>\n",
       "    <tr>\n",
       "      <th>Gender</th>\n",
       "      <td>0.125115</td>\n",
       "      <td>0.247942</td>\n",
       "      <td>1.000000</td>\n",
       "      <td>0.047253</td>\n",
       "      <td>0.291588</td>\n",
       "      <td>0.004565</td>\n",
       "      <td>0.032712</td>\n",
       "      <td>0.018096</td>\n",
       "      <td>0.140485</td>\n",
       "      <td>0.135598</td>\n",
       "      <td>0.076621</td>\n",
       "      <td>0.092044</td>\n",
       "      <td>0.051221</td>\n",
       "    </tr>\n",
       "    <tr>\n",
       "      <th>Age</th>\n",
       "      <td>0.147915</td>\n",
       "      <td>0.329884</td>\n",
       "      <td>0.047253</td>\n",
       "      <td>1.000000</td>\n",
       "      <td>0.538363</td>\n",
       "      <td>0.208539</td>\n",
       "      <td>0.078217</td>\n",
       "      <td>0.321203</td>\n",
       "      <td>0.085078</td>\n",
       "      <td>0.068370</td>\n",
       "      <td>0.048062</td>\n",
       "      <td>0.043194</td>\n",
       "      <td>1.000000</td>\n",
       "    </tr>\n",
       "    <tr>\n",
       "      <th>Occupation</th>\n",
       "      <td>0.231895</td>\n",
       "      <td>0.181804</td>\n",
       "      <td>0.291588</td>\n",
       "      <td>0.538363</td>\n",
       "      <td>1.000000</td>\n",
       "      <td>0.161362</td>\n",
       "      <td>0.117038</td>\n",
       "      <td>0.193217</td>\n",
       "      <td>0.091033</td>\n",
       "      <td>0.077033</td>\n",
       "      <td>0.052882</td>\n",
       "      <td>0.069557</td>\n",
       "      <td>0.453787</td>\n",
       "    </tr>\n",
       "    <tr>\n",
       "      <th>City_Category</th>\n",
       "      <td>0.142671</td>\n",
       "      <td>0.237000</td>\n",
       "      <td>0.004565</td>\n",
       "      <td>0.208539</td>\n",
       "      <td>0.161362</td>\n",
       "      <td>1.000000</td>\n",
       "      <td>0.055838</td>\n",
       "      <td>0.023935</td>\n",
       "      <td>0.068298</td>\n",
       "      <td>0.049868</td>\n",
       "      <td>0.052522</td>\n",
       "      <td>0.086597</td>\n",
       "      <td>0.128972</td>\n",
       "    </tr>\n",
       "    <tr>\n",
       "      <th>Stay_In_Current_City_Years</th>\n",
       "      <td>0.160214</td>\n",
       "      <td>0.000000</td>\n",
       "      <td>0.032712</td>\n",
       "      <td>0.078217</td>\n",
       "      <td>0.117038</td>\n",
       "      <td>0.055838</td>\n",
       "      <td>1.000000</td>\n",
       "      <td>0.023912</td>\n",
       "      <td>0.025372</td>\n",
       "      <td>0.016639</td>\n",
       "      <td>0.014046</td>\n",
       "      <td>0.014276</td>\n",
       "      <td>0.060016</td>\n",
       "    </tr>\n",
       "    <tr>\n",
       "      <th>Marital_Status</th>\n",
       "      <td>0.085761</td>\n",
       "      <td>0.105964</td>\n",
       "      <td>0.018096</td>\n",
       "      <td>0.321203</td>\n",
       "      <td>0.193217</td>\n",
       "      <td>0.023935</td>\n",
       "      <td>0.023912</td>\n",
       "      <td>1.000000</td>\n",
       "      <td>0.035007</td>\n",
       "      <td>0.029103</td>\n",
       "      <td>0.022264</td>\n",
       "      <td>0.014590</td>\n",
       "      <td>0.497471</td>\n",
       "    </tr>\n",
       "    <tr>\n",
       "      <th>Product_Category_1</th>\n",
       "      <td>0.049844</td>\n",
       "      <td>1.000000</td>\n",
       "      <td>0.140485</td>\n",
       "      <td>0.085078</td>\n",
       "      <td>0.091033</td>\n",
       "      <td>0.068298</td>\n",
       "      <td>0.025372</td>\n",
       "      <td>0.035007</td>\n",
       "      <td>1.000000</td>\n",
       "      <td>0.789057</td>\n",
       "      <td>0.628496</td>\n",
       "      <td>0.834296</td>\n",
       "      <td>0.089649</td>\n",
       "    </tr>\n",
       "    <tr>\n",
       "      <th>Product_Category_2</th>\n",
       "      <td>0.034584</td>\n",
       "      <td>1.000000</td>\n",
       "      <td>0.135598</td>\n",
       "      <td>0.068370</td>\n",
       "      <td>0.077033</td>\n",
       "      <td>0.049868</td>\n",
       "      <td>0.016639</td>\n",
       "      <td>0.029103</td>\n",
       "      <td>0.789057</td>\n",
       "      <td>1.000000</td>\n",
       "      <td>0.744683</td>\n",
       "      <td>0.504486</td>\n",
       "      <td>0.073822</td>\n",
       "    </tr>\n",
       "    <tr>\n",
       "      <th>Product_Category_3</th>\n",
       "      <td>0.021770</td>\n",
       "      <td>1.000000</td>\n",
       "      <td>0.076621</td>\n",
       "      <td>0.048062</td>\n",
       "      <td>0.052882</td>\n",
       "      <td>0.052522</td>\n",
       "      <td>0.014046</td>\n",
       "      <td>0.022264</td>\n",
       "      <td>0.628496</td>\n",
       "      <td>0.744683</td>\n",
       "      <td>1.000000</td>\n",
       "      <td>0.413338</td>\n",
       "      <td>0.052090</td>\n",
       "    </tr>\n",
       "    <tr>\n",
       "      <th>Purchase</th>\n",
       "      <td>0.034357</td>\n",
       "      <td>0.886075</td>\n",
       "      <td>0.092044</td>\n",
       "      <td>0.043194</td>\n",
       "      <td>0.069557</td>\n",
       "      <td>0.086597</td>\n",
       "      <td>0.014276</td>\n",
       "      <td>0.014590</td>\n",
       "      <td>0.834296</td>\n",
       "      <td>0.504486</td>\n",
       "      <td>0.413338</td>\n",
       "      <td>1.000000</td>\n",
       "      <td>0.044158</td>\n",
       "    </tr>\n",
       "    <tr>\n",
       "      <th>Age_group</th>\n",
       "      <td>0.130336</td>\n",
       "      <td>0.334374</td>\n",
       "      <td>0.051221</td>\n",
       "      <td>1.000000</td>\n",
       "      <td>0.453787</td>\n",
       "      <td>0.128972</td>\n",
       "      <td>0.060016</td>\n",
       "      <td>0.497471</td>\n",
       "      <td>0.089649</td>\n",
       "      <td>0.073822</td>\n",
       "      <td>0.052090</td>\n",
       "      <td>0.044158</td>\n",
       "      <td>1.000000</td>\n",
       "    </tr>\n",
       "  </tbody>\n",
       "</table>\n",
       "</div>"
      ],
      "text/plain": [
       "                             User_ID  Product_ID    Gender       Age  \\\n",
       "User_ID                     1.000000    0.160070  0.125115  0.147915   \n",
       "Product_ID                  0.160070    1.000000  0.247942  0.329884   \n",
       "Gender                      0.125115    0.247942  1.000000  0.047253   \n",
       "Age                         0.147915    0.329884  0.047253  1.000000   \n",
       "Occupation                  0.231895    0.181804  0.291588  0.538363   \n",
       "City_Category               0.142671    0.237000  0.004565  0.208539   \n",
       "Stay_In_Current_City_Years  0.160214    0.000000  0.032712  0.078217   \n",
       "Marital_Status              0.085761    0.105964  0.018096  0.321203   \n",
       "Product_Category_1          0.049844    1.000000  0.140485  0.085078   \n",
       "Product_Category_2          0.034584    1.000000  0.135598  0.068370   \n",
       "Product_Category_3          0.021770    1.000000  0.076621  0.048062   \n",
       "Purchase                    0.034357    0.886075  0.092044  0.043194   \n",
       "Age_group                   0.130336    0.334374  0.051221  1.000000   \n",
       "\n",
       "                            Occupation  City_Category  \\\n",
       "User_ID                       0.231895       0.142671   \n",
       "Product_ID                    0.181804       0.237000   \n",
       "Gender                        0.291588       0.004565   \n",
       "Age                           0.538363       0.208539   \n",
       "Occupation                    1.000000       0.161362   \n",
       "City_Category                 0.161362       1.000000   \n",
       "Stay_In_Current_City_Years    0.117038       0.055838   \n",
       "Marital_Status                0.193217       0.023935   \n",
       "Product_Category_1            0.091033       0.068298   \n",
       "Product_Category_2            0.077033       0.049868   \n",
       "Product_Category_3            0.052882       0.052522   \n",
       "Purchase                      0.069557       0.086597   \n",
       "Age_group                     0.453787       0.128972   \n",
       "\n",
       "                            Stay_In_Current_City_Years  Marital_Status  \\\n",
       "User_ID                                       0.160214        0.085761   \n",
       "Product_ID                                    0.000000        0.105964   \n",
       "Gender                                        0.032712        0.018096   \n",
       "Age                                           0.078217        0.321203   \n",
       "Occupation                                    0.117038        0.193217   \n",
       "City_Category                                 0.055838        0.023935   \n",
       "Stay_In_Current_City_Years                    1.000000        0.023912   \n",
       "Marital_Status                                0.023912        1.000000   \n",
       "Product_Category_1                            0.025372        0.035007   \n",
       "Product_Category_2                            0.016639        0.029103   \n",
       "Product_Category_3                            0.014046        0.022264   \n",
       "Purchase                                      0.014276        0.014590   \n",
       "Age_group                                     0.060016        0.497471   \n",
       "\n",
       "                            Product_Category_1  Product_Category_2  \\\n",
       "User_ID                               0.049844            0.034584   \n",
       "Product_ID                            1.000000            1.000000   \n",
       "Gender                                0.140485            0.135598   \n",
       "Age                                   0.085078            0.068370   \n",
       "Occupation                            0.091033            0.077033   \n",
       "City_Category                         0.068298            0.049868   \n",
       "Stay_In_Current_City_Years            0.025372            0.016639   \n",
       "Marital_Status                        0.035007            0.029103   \n",
       "Product_Category_1                    1.000000            0.789057   \n",
       "Product_Category_2                    0.789057            1.000000   \n",
       "Product_Category_3                    0.628496            0.744683   \n",
       "Purchase                              0.834296            0.504486   \n",
       "Age_group                             0.089649            0.073822   \n",
       "\n",
       "                            Product_Category_3  Purchase  Age_group  \n",
       "User_ID                               0.021770  0.034357   0.130336  \n",
       "Product_ID                            1.000000  0.886075   0.334374  \n",
       "Gender                                0.076621  0.092044   0.051221  \n",
       "Age                                   0.048062  0.043194   1.000000  \n",
       "Occupation                            0.052882  0.069557   0.453787  \n",
       "City_Category                         0.052522  0.086597   0.128972  \n",
       "Stay_In_Current_City_Years            0.014046  0.014276   0.060016  \n",
       "Marital_Status                        0.022264  0.014590   0.497471  \n",
       "Product_Category_1                    0.628496  0.834296   0.089649  \n",
       "Product_Category_2                    0.744683  0.504486   0.073822  \n",
       "Product_Category_3                    1.000000  0.413338   0.052090  \n",
       "Purchase                              0.413338  1.000000   0.044158  \n",
       "Age_group                             0.052090  0.044158   1.000000  "
      ]
     },
     "execution_count": 29,
     "metadata": {},
     "output_type": "execute_result"
    }
   ],
   "source": [
    "phik_overview"
   ]
  },
  {
   "cell_type": "code",
   "execution_count": 30,
   "id": "690da977",
   "metadata": {
    "execution": {
     "iopub.execute_input": "2022-12-28T19:10:09.910519Z",
     "iopub.status.busy": "2022-12-28T19:10:09.909406Z",
     "iopub.status.idle": "2022-12-28T19:10:10.238145Z",
     "shell.execute_reply": "2022-12-28T19:10:10.237040Z"
    },
    "papermill": {
     "duration": 0.34574,
     "end_time": "2022-12-28T19:10:10.240126",
     "exception": false,
     "start_time": "2022-12-28T19:10:09.894386",
     "status": "completed"
    },
    "tags": []
   },
   "outputs": [
    {
     "data": {
      "text/plain": [
       "<AxesSubplot:>"
      ]
     },
     "execution_count": 30,
     "metadata": {},
     "output_type": "execute_result"
    },
    {
     "data": {
      "image/png": "[encoded data removed]",
      "text/plain": [
       "<Figure size 432x288 with 2 Axes>"
      ]
     },
     "metadata": {
      "needs_background": "light"
     },
     "output_type": "display_data"
    }
   ],
   "source": [
    "sns.heatmap(phik_overview)"
   ]
  },
  {
   "cell_type": "code",
   "execution_count": 31,
   "id": "5b7ef81d",
   "metadata": {
    "execution": {
     "iopub.execute_input": "2022-12-28T19:10:10.272263Z",
     "iopub.status.busy": "2022-12-28T19:10:10.271680Z",
     "iopub.status.idle": "2022-12-28T19:10:10.280378Z",
     "shell.execute_reply": "2022-12-28T19:10:10.279283Z"
    },
    "papermill": {
     "duration": 0.028648,
     "end_time": "2022-12-28T19:10:10.283108",
     "exception": false,
     "start_time": "2022-12-28T19:10:10.254460",
     "status": "completed"
    },
    "tags": []
   },
   "outputs": [
    {
     "data": {
      "text/plain": [
       "Purchase                      1.000000\n",
       "Product_ID                    0.886075\n",
       "Product_Category_1            0.834296\n",
       "Product_Category_2            0.504486\n",
       "Product_Category_3            0.413338\n",
       "Gender                        0.092044\n",
       "City_Category                 0.086597\n",
       "Occupation                    0.069557\n",
       "Age_group                     0.044158\n",
       "Age                           0.043194\n",
       "User_ID                       0.034357\n",
       "Marital_Status                0.014590\n",
       "Stay_In_Current_City_Years    0.014276\n",
       "Name: Purchase, dtype: float64"
      ]
     },
     "execution_count": 31,
     "metadata": {},
     "output_type": "execute_result"
    }
   ],
   "source": [
    "phik_overview['Purchase'].sort_values(ascending=False)"
   ]
  },
  {
   "cell_type": "markdown",
   "id": "9a674143",
   "metadata": {
    "papermill": {
     "duration": 0.014589,
     "end_time": "2022-12-28T19:10:10.312670",
     "exception": false,
     "start_time": "2022-12-28T19:10:10.298081",
     "status": "completed"
    },
    "tags": []
   },
   "source": [
    "***Based on the data above, we can understand that the \"Product_id\" and \"Product_Category\" have the greatest impact on the purchase amount, and the smallest is 'Stay_In_Current_City_Years', 'Marital_Status', 'Age'. Thank you for reading, I recently started doing data analytics and I will only be glad for advice and comments, thank you all*** "
   ]
  }
 ],
 "metadata": {
  "kernelspec": {
   "display_name": "Python 3",
   "language": "python",
   "name": "python3"
  },
  "language_info": {
   "codemirror_mode": {
    "name": "ipython",
    "version": 3
   },
   "file_extension": ".py",
   "mimetype": "text/x-python",
   "name": "python",
   "nbconvert_exporter": "python",
   "pygments_lexer": "ipython3",
   "version": "3.7.12"
  },
  "papermill": {
   "default_parameters": {},
   "duration": 28.603471,
   "end_time": "2022-12-28T19:10:12.947777",
   "environment_variables": {},
   "exception": null,
   "input_path": "__notebook__.ipynb",
   "output_path": "__notebook__.ipynb",
   "parameters": {},
   "start_time": "2022-12-28T19:09:44.344306",
   "version": "2.3.4"
  }
 },
 "nbformat": 4,
 "nbformat_minor": 5
}
